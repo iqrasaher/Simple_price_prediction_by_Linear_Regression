{
  "nbformat": 4,
  "nbformat_minor": 0,
  "metadata": {
    "colab": {
      "name": "Linear_Regression.ipynb",
      "provenance": [],
      "collapsed_sections": []
    },
    "kernelspec": {
      "name": "python3",
      "display_name": "Python 3"
    },
    "language_info": {
      "name": "python"
    }
  },
  "cells": [
    {
      "cell_type": "markdown",
      "metadata": {
        "id": "eLBlfmbpp5MS"
      },
      "source": [
        "#Linear_Regression in Python using scikit-learn\n",
        "\n"
      ]
    },
    {
      "cell_type": "code",
      "metadata": {
        "colab": {
          "base_uri": "https://localhost:8080/"
        },
        "id": "6DPHLZgmrUH4",
        "outputId": "58822015-3644-4581-ba30-7b891d189d3c"
      },
      "source": [
        "!pip install scikit-learn\n",
        "!pip install numpy\n",
        "!pip install matplotlib"
      ],
      "execution_count": 5,
      "outputs": [
        {
          "output_type": "stream",
          "text": [
            "Requirement already satisfied: scikit-learn in /usr/local/lib/python3.7/dist-packages (0.22.2.post1)\n",
            "Requirement already satisfied: scipy>=0.17.0 in /usr/local/lib/python3.7/dist-packages (from scikit-learn) (1.4.1)\n",
            "Requirement already satisfied: numpy>=1.11.0 in /usr/local/lib/python3.7/dist-packages (from scikit-learn) (1.19.5)\n",
            "Requirement already satisfied: joblib>=0.11 in /usr/local/lib/python3.7/dist-packages (from scikit-learn) (1.0.1)\n",
            "Requirement already satisfied: numpy in /usr/local/lib/python3.7/dist-packages (1.19.5)\n",
            "Requirement already satisfied: matplotlib in /usr/local/lib/python3.7/dist-packages (3.2.2)\n",
            "Requirement already satisfied: pyparsing!=2.0.4,!=2.1.2,!=2.1.6,>=2.0.1 in /usr/local/lib/python3.7/dist-packages (from matplotlib) (2.4.7)\n",
            "Requirement already satisfied: cycler>=0.10 in /usr/local/lib/python3.7/dist-packages (from matplotlib) (0.10.0)\n",
            "Requirement already satisfied: python-dateutil>=2.1 in /usr/local/lib/python3.7/dist-packages (from matplotlib) (2.8.1)\n",
            "Requirement already satisfied: kiwisolver>=1.0.1 in /usr/local/lib/python3.7/dist-packages (from matplotlib) (1.3.1)\n",
            "Requirement already satisfied: numpy>=1.11 in /usr/local/lib/python3.7/dist-packages (from matplotlib) (1.19.5)\n",
            "Requirement already satisfied: six in /usr/local/lib/python3.7/dist-packages (from cycler>=0.10->matplotlib) (1.15.0)\n"
          ],
          "name": "stdout"
        }
      ]
    },
    {
      "cell_type": "code",
      "metadata": {
        "id": "yFrHIHHpriKw"
      },
      "source": [
        "#import Libraries\n",
        "import numpy as np\n",
        "import matplotlib.pyplot as plt\n",
        "from sklearn.linear_model import LinearRegression\n"
      ],
      "execution_count": 9,
      "outputs": []
    },
    {
      "cell_type": "code",
      "metadata": {
        "id": "VMMC67V0sAjE"
      },
      "source": [
        "#Load Dataset\n",
        "dataset=np.array([\n",
        "                 [245,1400],\n",
        "[312,1600],\n",
        "[279,1700],\n",
        "[308,1865],\n",
        "[199,1100],\n",
        "[219,1550],\n",
        "[405,2350],\n",
        "[324,2450],\n",
        "[319,1425],\n",
        "[255,1700],\n",
        "])"
      ],
      "execution_count": 10,
      "outputs": []
    },
    {
      "cell_type": "code",
      "metadata": {
        "colab": {
          "base_uri": "https://localhost:8080/"
        },
        "id": "C_3nOJv6uB7Z",
        "outputId": "c9f4a722-96af-45f1-ea5c-35c90e9ab16d"
      },
      "source": [
        "#Single feature variable -size of the house\n",
        "feature_size=dataset[:,-1:].astype('int')\n",
        "print(feature_size)"
      ],
      "execution_count": 16,
      "outputs": [
        {
          "output_type": "stream",
          "text": [
            "[[1400]\n",
            " [1600]\n",
            " [1700]\n",
            " [1865]\n",
            " [1100]\n",
            " [1550]\n",
            " [2350]\n",
            " [2450]\n",
            " [1425]\n",
            " [1700]]\n"
          ],
          "name": "stdout"
        }
      ]
    },
    {
      "cell_type": "code",
      "metadata": {
        "colab": {
          "base_uri": "https://localhost:8080/"
        },
        "id": "UXvAyXKjxE63",
        "outputId": "731b4993-785e-4d31-b9a5-357f8bd9794b"
      },
      "source": [
        "#target /dependent var. price of the house\n",
        "target_price=dataset[:,0:-1].astype('int')\n",
        "print(target_price)"
      ],
      "execution_count": 17,
      "outputs": [
        {
          "output_type": "stream",
          "text": [
            "[[245]\n",
            " [312]\n",
            " [279]\n",
            " [308]\n",
            " [199]\n",
            " [219]\n",
            " [405]\n",
            " [324]\n",
            " [319]\n",
            " [255]]\n"
          ],
          "name": "stdout"
        }
      ]
    },
    {
      "cell_type": "code",
      "metadata": {
        "colab": {
          "base_uri": "https://localhost:8080/"
        },
        "id": "OLGIBKHYxn3T",
        "outputId": "01c81115-3003-4a52-a17c-8d66a6336355"
      },
      "source": [
        "#tain the model\n",
        "model = LinearRegression()\n",
        "model.fit(feature_size,target_price)"
      ],
      "execution_count": 18,
      "outputs": [
        {
          "output_type": "execute_result",
          "data": {
            "text/plain": [
              "LinearRegression(copy_X=True, fit_intercept=True, n_jobs=None, normalize=False)"
            ]
          },
          "metadata": {
            "tags": []
          },
          "execution_count": 18
        }
      ]
    },
    {
      "cell_type": "code",
      "metadata": {
        "id": "ZszpM0vHx3G1"
      },
      "source": [
        "#predict the size\n",
        "price_predicted= model.predict(feature_size)\n",
        "#print(price_predicted)"
      ],
      "execution_count": 24,
      "outputs": []
    },
    {
      "cell_type": "code",
      "metadata": {
        "id": "JA3sRcilyh95"
      },
      "source": [
        "#single prediction\n",
        "guess_size=np.array([[2800]])\n",
        "price_single=model.predict(guess_size)\n",
        "#print(\"The price of the house is\" ,price_single)\n"
      ],
      "execution_count": 38,
      "outputs": []
    },
    {
      "cell_type": "code",
      "metadata": {
        "colab": {
          "base_uri": "https://localhost:8080/",
          "height": 313
        },
        "id": "pQvtrr_CzlKF",
        "outputId": "a68f1101-e77a-44be-c1f0-0e2b44c11fc0"
      },
      "source": [
        "#plot the result\n",
        "plt.scatter(feature_size,target_price,color=\"green\")\n",
        "plt.plot(feature_size,price_predicted,color=\"red\")\n",
        "plt.scatter(guess_size,price_single,color=\"blue\")\n",
        "plt.title(\"Linear Regression\")\n",
        "plt.xlabel(\"House Size(square feet)\")\n",
        "plt.ylabel(\"House Price\")"
      ],
      "execution_count": 39,
      "outputs": [
        {
          "output_type": "execute_result",
          "data": {
            "text/plain": [
              "Text(0, 0.5, 'House Price')"
            ]
          },
          "metadata": {
            "tags": []
          },
          "execution_count": 39
        },
        {
          "output_type": "display_data",
          "data": {
            "image/png": "[encoded data removed]",
            "text/plain": [
              "<Figure size 432x288 with 1 Axes>"
            ]
          },
          "metadata": {
            "tags": [],
            "needs_background": "light"
          }
        }
      ]
    }
  ]
}